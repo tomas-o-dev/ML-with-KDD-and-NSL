{
 "cells": [
  {
   "cell_type": "markdown",
   "metadata": {},
   "source": [
    "> **tomato juice dataset**\n",
    "<br>` 'quality' is the target feature for classification `\n",
    "<br>` the other features are chemical properties of our product `"
   ]
  },
  {
   "cell_type": "markdown",
   "metadata": {
    "colab_type": "text",
    "id": "_S34U5S-i69d"
   },
   "source": [
    "**Import the main libraries**"
   ]
  },
  {
   "cell_type": "code",
   "execution_count": null,
   "metadata": {},
   "outputs": [],
   "source": [
    "import numpy as np\n",
    "import pandas as pd\n",
    "\n",
    "import warnings\n",
    "# supress all\n",
    "warnings.filterwarnings(\"ignore\")"
   ]
  },
  {
   "cell_type": "markdown",
   "metadata": {
    "colab_type": "text",
    "id": "9IZetEZ8jQJm"
   },
   "source": [
    "**Import the Dataset**"
   ]
  },
  {
   "cell_type": "code",
   "execution_count": null,
   "metadata": {},
   "outputs": [],
   "source": [
    "## file path: windows style\n",
    "df = pd.read_csv('..\\\\datasets\\\\tomatjus.csv')\n",
    "\n",
    "## file path: unix style\n",
    "#df = pd.read_csv('../datasets/tomatjus.csv')\n",
    "\n",
    "# shape method gives the dimensions of the dataset\n",
    "print('Dataset dimensions: {} rows, {} columns'.format(\n",
    "    df.shape[0], df.shape[1]))"
   ]
  },
  {
   "cell_type": "code",
   "execution_count": null,
   "metadata": {},
   "outputs": [],
   "source": [
    "df.info()"
   ]
  },
  {
   "cell_type": "markdown",
   "metadata": {
    "colab_type": "text",
    "id": "Cpzuyj7gxwCg"
   },
   "source": [
    "***\n",
    "**Data Preparation and EDA** (unique to this dataset)\n",
    "* _Check for missing values_\n",
    "* _Quick visual check of unique values_\n",
    "* _Split the classification feature out of the dataset_\n",
    "* _Check column names of categorical attributes ( for get_dummies() )_\n",
    "* _Check column names of numeric attributes ( for Scaling )_"
   ]
  },
  {
   "cell_type": "markdown",
   "metadata": {},
   "source": [
    "**_Let's skip the checking_**"
   ]
  },
  {
   "cell_type": "markdown",
   "metadata": {},
   "source": [
    "**Classification target feature**\n",
    "<br>_Make it a multi-class problem, using text labels_"
   ]
  },
  {
   "cell_type": "code",
   "execution_count": null,
   "metadata": {},
   "outputs": [],
   "source": [
    "##  divide into classes by giving a range for quality\n",
    "##  Make it a multi-class problem: {3,4,5} {6} {7.8}\n",
    "bins = (2, 5, 6, 8)\n",
    "group_names = ['Average', 'Premium', 'Special']\n",
    "df['quality'] = pd.cut(df['quality'], bins = bins, labels = group_names)"
   ]
  },
  {
   "cell_type": "markdown",
   "metadata": {},
   "source": [
    "* Split the classification feature out of the dataset "
   ]
  },
  {
   "cell_type": "code",
   "execution_count": null,
   "metadata": {},
   "outputs": [],
   "source": [
    "## Feature being predicted (\"the Right Answer\")\n",
    "labels_col = 'quality'\n",
    "y = df[labels_col]\n",
    "\n",
    "## Features used for prediction \n",
    "X = df.drop(labels_col, axis=1)"
   ]
  },
  {
   "cell_type": "code",
   "execution_count": null,
   "metadata": {},
   "outputs": [],
   "source": [
    "# generate a sorted list of unique labels to use later\n",
    "from sklearn.utils.multiclass import unique_labels\n",
    "targetlabels = unique_labels(y)"
   ]
  },
  {
   "cell_type": "markdown",
   "metadata": {
    "colab_type": "text",
    "id": "Cpzuyj7gxwCg",
    "tags": []
   },
   "source": [
    "***\n",
    "**<br>Create Test // Train Datasets**\n",
    "> Split X and y datasets into Train and Test subsets,<br>keeping relative proportions of each class (stratify)"
   ]
  },
  {
   "cell_type": "code",
   "execution_count": null,
   "metadata": {},
   "outputs": [],
   "source": [
    "from sklearn.model_selection import train_test_split\n",
    "X_train, X_test, y_train, y_test = train_test_split(X, y, test_size=0.2, \n",
    "                                                    random_state=50, stratify=y)"
   ]
  },
  {
   "cell_type": "markdown",
   "metadata": {
    "tags": []
   },
   "source": [
    "**<br>Target Label Distributions**"
   ]
  },
  {
   "cell_type": "code",
   "execution_count": null,
   "metadata": {},
   "outputs": [],
   "source": [
    "# shape method gives the dimensions of the dataset\n",
    "print('X_train: {} rows, {} columns'.format(X_train.shape[0], X_train.shape[1]))\n",
    "print('X_test:  {} rows, {} columns'.format(X_test.shape[0], X_test.shape[1]))\n",
    "print()\n",
    "print('y_train: {} rows, 1 column'.format(y_train.shape[0]))\n",
    "print('y_test:  {} rows, 1 column'.format(y_test.shape[0]))\n",
    "print()\n",
    "\n",
    "## Here's a nice report:  \n",
    "# 1. series to dataframe conversion\n",
    "my_train = pd.DataFrame(y_train)\n",
    "my_test = pd.DataFrame(y_test)\n",
    "# 2. dataframe copy with [[ -- ]]\n",
    "av_train = my_train[[labels_col]].apply(lambda x: x.value_counts())\n",
    "av_test = my_test[[labels_col]].apply(lambda x: x.value_counts())\n",
    "# 3. add a new column\n",
    "av_train['pct_train'] = round((100 * av_train / av_train.sum()),2)\n",
    "av_test['pct_test'] = round((100 * av_test / av_test.sum()),2)\n",
    "# 4. combine the dataframes\n",
    "av_tt = pd.concat([av_train,av_test], axis=1) \n",
    "# 5. print the report\n",
    "print('Frequency and Distribution of labels')\n",
    "print(av_tt)"
   ]
  },
  {
   "cell_type": "markdown",
   "metadata": {},
   "source": [
    "***\n",
    "Next are standard steps for all datasets: _scaling, classifiers, results_"
   ]
  },
  {
   "cell_type": "markdown",
   "metadata": {
    "colab_type": "text",
    "id": "Cpzuyj7gxwCg"
   },
   "source": [
    "**Scaling** comes _after_ test // train split"
   ]
  },
  {
   "cell_type": "code",
   "execution_count": null,
   "metadata": {},
   "outputs": [],
   "source": [
    "# scaling the Numeric columns \n",
    "# from sklearn.preprocessing import StandardScaler\n",
    "from sklearn.preprocessing import MinMaxScaler\n",
    "\n",
    "# StandardScaler range: -1 to 1, MinMaxScaler range: zero to 1\n",
    "# ColumnTransformer returns a numpy.ndarray so we lose the feature names;\n",
    "# we process one column at a time to preserve the dataframe\n",
    "\n",
    "# sklearn docs say \n",
    "#   \"Don't cheat - fit only on training data, then transform both\"\n",
    "#   fit() expects 2D array: reshape(-1, 1) for single col or (1, -1) single row\n",
    "\n",
    "for i in numeri:\n",
    "    arr = np.array(X_train[i])\n",
    "    scale = MinMaxScaler().fit(arr.reshape(-1, 1))\n",
    "    X_train[i] = scale.transform(arr.reshape(len(arr),1))\n",
    "\n",
    "    arr = np.array(X_test[i])\n",
    "    X_test[i] = scale.transform(arr.reshape(len(arr),1))\n",
    "    "
   ]
  },
  {
   "cell_type": "markdown",
   "metadata": {
    "colab_type": "text",
    "id": "Cpzuyj7gxwCg",
    "tags": []
   },
   "source": [
    "**<br>Function** to calculate perfomance metrics"
   ]
  },
  {
   "cell_type": "code",
   "execution_count": null,
   "metadata": {
    "tags": []
   },
   "outputs": [],
   "source": [
    "from sklearn.metrics import confusion_matrix\n",
    "from sklearn.metrics import classification_report\n",
    "from sklearn.metrics import matthews_corrcoef"
   ]
  },
  {
   "cell_type": "code",
   "execution_count": null,
   "metadata": {
    "tags": []
   },
   "outputs": [],
   "source": [
    "def show_metrics(y_test,ygx,lbls):\n",
    "    tptn_df = pd.DataFrame(confusion_matrix(y_test, ygx, labels=lbls), \n",
    "                           index=['train:{:}'.format(x) for x in lbls], \n",
    "                           columns=['pred:{:}'.format(x) for x in lbls])\n",
    "    print(tptn_df)    \n",
    "    print(\"\\n~~~~\")\n",
    "    \n",
    "    TP = np.diag(tptn_df.values)\n",
    "    FP = tptn_df.values.sum(axis=0) - TP\n",
    "    FN = tptn_df.values.sum(axis=1) - TP\n",
    "    TN = np.sum(tptn_df.values) - (FP + FN + TP)\n",
    "# false positive rates\n",
    "    FPR = FP/(FP+TN)\n",
    "# false negative rates\n",
    "    FNR = FN/(TP+FN)\n",
    "# overall \n",
    "    sfpr=FP.sum()/(FP.sum()+TN.sum())\n",
    "    sfnr=FN.sum()/(TP.sum()+FN.sum())\n",
    "    \n",
    "    if len(lbls) >2:\n",
    "        for x in range(len(lbls)):\n",
    "            print('{:>12} : '.format(lbls[x]),\n",
    "                  'FPR = %.3f   FNR = %.3f' % (FPR[x], FNR[x]))\n",
    "        print()\n",
    "\n",
    "    print('{:>12} : '.format('macro avg'),\n",
    "          'FPR = %.3f   FNR = %.3f'  % (FPR.mean(), FNR.mean()))\n",
    "    print('weighted avg :  FPR = %.3f   FNR = %.3f' % (sfpr, sfnr))\n",
    " \n",
    "    print(\"\\n~~~~\")\n",
    "    \n",
    "#    macro average: unweighted mean per label \n",
    "# weighted average: support-weighted mean per label  \n",
    "    print(classification_report(y_test, ygx, digits=3, target_names=lbls))\n",
    "\n",
    "    print(\"~~~~\")\n",
    "# Matthews correlation coefficient: \n",
    "#   correlation between prediction and ground truth\n",
    "#   (+1 perfect, 0 random prediction, -1 inverse)\n",
    "\n",
    "    mcc = matthews_corrcoef(y_test, ygx)\n",
    "    print('MCC: Overall :  %.3f' % mcc)\n",
    "    if len(lbls) >2:\n",
    "        for tc in lbls:\n",
    "            bin_mcc = matthews_corrcoef(y_test == tc, ygx == tc)\n",
    "            print('{:>12} :'.format(tc),' %.3f' % bin_mcc)  \n",
    "\n",
    "    return '~~~~'"
   ]
  },
  {
   "cell_type": "markdown",
   "metadata": {
    "colab_type": "text",
    "id": "Cpzuyj7gxwCg",
    "tags": []
   },
   "source": [
    "**<br>Classifier Selection**"
   ]
  },
  {
   "cell_type": "code",
   "execution_count": null,
   "metadata": {},
   "outputs": [],
   "source": [
    "# prepare list\n",
    "models = []\n",
    "\n",
    "##  --  Linear  --  ## \n",
    "from sklearn.linear_model import LogisticRegression \n",
    "models.append ((\"LogReg\",LogisticRegression())) \n",
    "#from sklearn.linear_model import SGDClassifier \n",
    "#models.append ((\"StocGradDes\",SGDClassifier())) \n",
    "from sklearn.discriminant_analysis import LinearDiscriminantAnalysis \n",
    "models.append((\"LinearDA\", LinearDiscriminantAnalysis())) \n",
    "#from sklearn.discriminant_analysis import QuadraticDiscriminantAnalysis \n",
    "#models.append((\"QuadraticDA\", QuadraticDiscriminantAnalysis())) \n",
    "\n",
    "##  --  Support Vector  --  ## \n",
    "#from sklearn.svm import SVC \n",
    "#models.append((\"SupportVectorClf\", SVC())) \n",
    "#from sklearn.svm import LinearSVC \n",
    "#models.append((\"LinearSVC\", LinearSVC())) \n",
    "#from sklearn.linear_model import RidgeClassifier\n",
    "#models.append ((\"RidgeClf\",RidgeClassifier())) \n",
    "\n",
    "##  --  Non-linear  --  ## \n",
    "#from sklearn.tree import DecisionTreeClassifier \n",
    "#models.append ((\"DecisionTree\",DecisionTreeClassifier())) \n",
    "#from sklearn.naive_bayes import GaussianNB \n",
    "#models.append ((\"GaussianNB\",GaussianNB())) \n",
    "#from sklearn.neighbors import KNeighborsClassifier \n",
    "#models.append((\"K-NNeighbors\", KNeighborsClassifier())) \n",
    "\n",
    "##  --  Ensemble: bagging  --  ## \n",
    "#from sklearn.ensemble import RandomForestClassifier \n",
    "#models.append((\"RandomForest\", RandomForestClassifier())) \n",
    "##  --  Ensemble: boosting  --  ## \n",
    "#from sklearn.ensemble import AdaBoostClassifier \n",
    "#models.append((\"AdaBoost\", AdaBoostClassifier())) \n",
    "#from sklearn.ensemble import GradientBoostingClassifier \n",
    "#models.append((\"GradientBoost\", GradientBoostingClassifier())) \n",
    "\n",
    "##  --  NeuralNet (simplest)  --  ## \n",
    "#from sklearn.neural_network import MLPClassifier \n",
    "#models.append((\"MultiLayerPtron\", MLPClassifier())) \n",
    "\n",
    "print(models)"
   ]
  },
  {
   "cell_type": "markdown",
   "metadata": {
    "colab_type": "text",
    "id": "Cpzuyj7gxwCg",
    "tags": []
   },
   "source": [
    "**<br>Fit and Predict**"
   ]
  },
  {
   "cell_type": "code",
   "execution_count": null,
   "metadata": {
    "tags": []
   },
   "outputs": [],
   "source": [
    "# evaluate each model in turn\n",
    "results = []\n",
    "for name, clf in models:\n",
    "    print('Confusion Matrix:', name)\n",
    "    clf.fit(X_train, y_train)\n",
    "    ygx = clf.predict(X_test)\n",
    "\n",
    "    results.append((name, ygx))\n",
    "    \n",
    "# Easy way to ensure that the confusion matrix rows and columns\n",
    "#   are labeled exactly as the classifier has coded the classes\n",
    "#   [[note the _ at the end of clf.classes_ ]]\n",
    "    show_metrics(y_test,ygx,clf.classes_)\n",
    "    print('\\nParameters: ', clf.get_params(), '\\n\\n')"
   ]
  },
  {
   "cell_type": "markdown",
   "metadata": {
    "colab_type": "text",
    "id": "Cpzuyj7gxwCg"
   },
   "source": [
    "***\n",
    "**Statistical Comparison of Models**\n",
    "<br>The the null hypothesis statement:\n",
    ">H0: Both models perform equally well on the dataset.\n",
    "<br>H1: Both models do not have the same performance on the dataset.\n",
    "\n",
    "Chosen significance threshold is 0.05 (a=0.05) for rejecting the null hypothesis.\n",
    "***"
   ]
  },
  {
   "cell_type": "code",
   "execution_count": null,
   "metadata": {},
   "outputs": [],
   "source": [
    "# Use the results from the first test run\n",
    "#     (make sure these match up)\n",
    "\n",
    "# ('LogReg', LogisticRegression())\n",
    "model1 = models[0][1]\n",
    "scores1 = results[0][1]\n",
    "\n",
    "# ('LinearDA', LinearDiscriminantAnalysis())\n",
    "model2 = models[1][1]\n",
    "scores2 = results[1][1]"
   ]
  },
  {
   "cell_type": "markdown",
   "metadata": {},
   "source": [
    "* Wilcoxon signed-rank test"
   ]
  },
  {
   "cell_type": "code",
   "execution_count": null,
   "metadata": {},
   "outputs": [],
   "source": [
    "from scipy.stats import wilcoxon\n",
    "\n",
    "# this one requires numeric labels\n",
    "from sklearn.preprocessing import LabelEncoder\n",
    "ns1 = LabelEncoder().fit_transform(scores1)\n",
    "ns2 = LabelEncoder().fit_transform(scores2)\n",
    "\n",
    "s, pv = wilcoxon(ns1, ns2, zero_method='zsplit')\n",
    "\n",
    "print('LDA and LR - Wilcoxon Test: p value =', round(pv,3))\n",
    "\n",
    "if pv <= 0.05:\n",
    "    print('Since p < 0.05, we can reject the null-hypothesis that')\n",
    "    print('                both models perform equally well on this dataset.')\n",
    "    print('We may conclude that the difference in performance is significant.')\n",
    "else:\n",
    "    print('Since p > 0.05, we cannot reject the null hypothesis that')\n",
    "    print('                both models perform equally well on this dataset.')\n",
    "    print('We must conclude that the difference in performance is not significant')"
   ]
  },
  {
   "cell_type": "markdown",
   "metadata": {},
   "source": [
    "* McNemar's test"
   ]
  },
  {
   "cell_type": "code",
   "execution_count": null,
   "metadata": {},
   "outputs": [],
   "source": [
    "from mlxtend.evaluate import mcnemar_table, mcnemar\n",
    "\n",
    "tb = mcnemar_table(y_target=y_test, \n",
    "                   y_model1=scores1, \n",
    "                   y_model2=scores2)\n",
    "chisq, pv = mcnemar(ary=tb, exact=True)\n",
    "\n",
    "print('LDA and LR - McNemar Test: p value =', round(pv,3), 'and ChiSquare =', chisq)\n",
    "\n",
    "if pv <= 0.05:\n",
    "    print('Since p < 0.05, we can reject the null-hypothesis that')\n",
    "    print('                both models perform equally well on this dataset.')\n",
    "    print('We may conclude that the difference in performance is significant.')\n",
    "else:\n",
    "    print('Since p > 0.05, we cannot reject the null hypothesis that')\n",
    "    print('                both models perform equally well on this dataset.')\n",
    "    print('We must conclude that the difference in performance is not significant')"
   ]
  },
  {
   "cell_type": "markdown",
   "metadata": {},
   "source": [
    "* 5x2CV paired t-test"
   ]
  },
  {
   "cell_type": "code",
   "execution_count": null,
   "metadata": {},
   "outputs": [],
   "source": [
    "from mlxtend.evaluate import paired_ttest_5x2cv\n",
    "\n",
    "# Calculate p-value using previous k-Fold classifier variables\n",
    "t, pv = paired_ttest_5x2cv(estimator1=model1,\n",
    "                          estimator2=model2,\n",
    "                          X=X_train, y=y_train,\n",
    "                          random_seed=11)\n",
    "\n",
    "print('LDA and LR - 5x2CV paired t-test: p value =', round(pv,3), 'and t value =', round(t,3))\n",
    "\n",
    "if pv <= 0.05:\n",
    "    print('Since p < 0.05, we can reject the null-hypothesis that')\n",
    "    print('                both models perform equally well on this dataset.')\n",
    "    print('We may conclude that the difference in performance is significant.')\n",
    "else:\n",
    "    print('Since p > 0.05, we cannot reject the null hypothesis that')\n",
    "    print('                both models perform equally well on this dataset.')\n",
    "    print('We must conclude that the difference in performance is not significant')"
   ]
  },
  {
   "cell_type": "markdown",
   "metadata": {},
   "source": [
    "* 5x2CV combined F test"
   ]
  },
  {
   "cell_type": "code",
   "execution_count": null,
   "metadata": {},
   "outputs": [],
   "source": [
    "from mlxtend.evaluate import combined_ftest_5x2cv\n",
    "\n",
    "# Calculate p-value using previous k-Fold classifier variables\n",
    "f, pv = combined_ftest_5x2cv(estimator1=model1,\n",
    "                            estimator2=model2,\n",
    "                            X=X_train, y=y_train,\n",
    "                            random_seed=11)\n",
    "\n",
    "print('LDA and LR - 5x2CV Combined f Test: p value =', round(pv,3), 'and f value =', round(f,3))\n",
    "\n",
    "if pv <= 0.05:\n",
    "    print('Since p < 0.05, we can reject the null-hypothesis that')\n",
    "    print('                both models perform equally well on this dataset.')\n",
    "    print('We may conclude that the difference in performance is significant.')\n",
    "else:\n",
    "    print('Since p > 0.05, we cannot reject the null hypothesis that')\n",
    "    print('                both models perform equally well on this dataset.')\n",
    "    print('We must conclude that the difference in performance is not significant')"
   ]
  },
  {
   "cell_type": "code",
   "execution_count": null,
   "metadata": {},
   "outputs": [],
   "source": []
  }
 ],
 "metadata": {
  "kernelspec": {
   "display_name": "Python 3 (ipykernel)",
   "language": "python",
   "name": "python3"
  },
  "language_info": {
   "codemirror_mode": {
    "name": "ipython",
    "version": 3
   },
   "file_extension": ".py",
   "mimetype": "text/x-python",
   "name": "python",
   "nbconvert_exporter": "python",
   "pygments_lexer": "ipython3",
   "version": "3.7.13"
  }
 },
 "nbformat": 4,
 "nbformat_minor": 4
}
