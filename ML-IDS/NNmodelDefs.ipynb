{
 "cells": [
  {
   "cell_type": "markdown",
   "metadata": {},
   "source": [
    "> **Essential ML process for Intrusion Detection**\n",
    "<br>`NOTE: {python3.8 numpy 1.19.5} are max versions for the June 2022 conda tensorflow 2.2-2.6 builds (at least) - seems like the pip build works with numpy >= 1.20 but pip install breaks the consistency of the conda environment`<br>This was fixed in the Dec.2022 builds"
   ]
  },
  {
   "cell_type": "markdown",
   "metadata": {},
   "source": [
    "***\n",
    "**Define the model**"
   ]
  },
  {
   "cell_type": "markdown",
   "metadata": {},
   "source": [
    "***\n",
    "**tensorflow.keras \"feed forward\"**"
   ]
  },
  {
   "cell_type": "code",
   "execution_count": null,
   "metadata": {},
   "outputs": [],
   "source": [
    "# shape[0] = rows|observations ; shape[1] = cols|features\n",
    "# shape for initial input tensor depends on first layer:\n",
    "#     Dense (Feed Forward|Fully Connected) uses 2D\n",
    "#     CNN1D, RNN both use 3D (with different semantics for the 3rd dim!)\n",
    "\n",
    "# Dense initial layer: no need to reshape ... \n",
    "shape = (X_train.shape[1])"
   ]
  },
  {
   "cell_type": "code",
   "execution_count": null,
   "metadata": {},
   "outputs": [],
   "source": [
    "X_train.shape, X_test.shape, shape"
   ]
  },
  {
   "cell_type": "code",
   "execution_count": null,
   "metadata": {
    "tags": []
   },
   "outputs": [],
   "source": [
    "# Dense layer = Feed Forward|Fully Connected \n",
    "# If you don't specify an Activation function, no activation is applied \n",
    "#   (ie. \"linear\" activation: a(x) = x).\n",
    "\n",
    "# NO Spaces in names\n",
    "model_name = 'feed_forward'\n",
    "\n",
    "model = keras.Sequential()\n",
    "# use the proper shape!\n",
    "model.add(keras.layers.InputLayer(input_shape=shape, name='optionalLayer'))\n",
    "\n",
    "model.add(keras.layers.Dense(128, activation='relu', name='InitialLayer'))\n",
    "model.add(keras.layers.Dense(64, activation='relu', name='mid_Layer'))\n",
    "model.add(keras.layers.Dense(32, activation='relu', name=\"mid-Layer\"))\n",
    "\n",
    "# output layers\n",
    "model.add(keras.layers.Dense(CLASSES, name=\"OutputLayer\"))\n",
    "model.add(keras.layers.Softmax(name=\"ResultLayer\"))"
   ]
  },
  {
   "cell_type": "markdown",
   "metadata": {
    "tags": []
   },
   "source": [
    "***\n",
    "**tensorflow.keras RNN**"
   ]
  },
  {
   "cell_type": "code",
   "execution_count": null,
   "metadata": {},
   "outputs": [],
   "source": [
    "# shape[0] = rows|observations ; shape[1] = cols|features\n",
    "# shape for initial input tensor depends on first layer:\n",
    "#     Dense (Feed Forward|Fully Connected) uses 2D\n",
    "#     CNN1D, RNN both use 3D (with different semantics for the 3rd dim!)\n",
    "\n",
    "# reshape the datasets to 3D\n",
    "X_train = X_train.values.reshape(X_train.shape[0], X_train.shape[1], 1)\n",
    "X_test = X_test.values.reshape(X_test.shape[0], X_test.shape[1], 1)\n",
    "\n",
    "# shape for initial input tensor: CNN1D, RNN \n",
    "shape = (X_train.shape[1], X_train.shape[2])"
   ]
  },
  {
   "cell_type": "code",
   "execution_count": null,
   "metadata": {},
   "outputs": [],
   "source": [
    "X_train.shape, X_test.shape, shape"
   ]
  },
  {
   "cell_type": "code",
   "execution_count": null,
   "metadata": {
    "tags": []
   },
   "outputs": [],
   "source": [
    "# Recurrent layers (RNN, LSTM) require \n",
    "#    return_sequences=True\n",
    "# to initialise another Recurrent layer\n",
    "# shape of this output is (batch_size, timesteps, units).\n",
    "# for a Dense layer, the default (False) is fine\n",
    "# shape of this output is (batch_size, units) \n",
    "#    where units corresponds to the argument passed to the constructor\n",
    "\n",
    "model_name = 'RNN'\n",
    "model = keras.Sequential()\n",
    "# use the proper shape!\n",
    "model.add(keras.layers.InputLayer(input_shape = shape))\n",
    "\n",
    "model.add(keras.layers.SimpleRNN(128, return_sequences=True))\n",
    "model.add(keras.layers.SimpleRNN(64))\n",
    "\n",
    "# output layers\n",
    "model.add(keras.layers.Dense(CLASSES, name=\"OutputLayer\"))\n",
    "model.add(keras.layers.Softmax(name=\"ResultLayer\"))"
   ]
  },
  {
   "cell_type": "markdown",
   "metadata": {
    "tags": []
   },
   "source": [
    "***\n",
    "**tensorflow.keras LSTM**"
   ]
  },
  {
   "cell_type": "code",
   "execution_count": null,
   "metadata": {},
   "outputs": [],
   "source": [
    "# shape[0] = rows|observations ; shape[1] = cols|features\n",
    "# shape for initial input tensor depends on first layer:\n",
    "#     Dense (Feed Forward|Fully Connected) uses 2D\n",
    "#     CNN1D, RNN both use 3D (with different semantics for the 3rd dim!)\n",
    "\n",
    "# reshape the datasets to 3D\n",
    "X_train = X_train.values.reshape(X_train.shape[0], X_train.shape[1], 1)\n",
    "X_test = X_test.values.reshape(X_test.shape[0], X_test.shape[1], 1)\n",
    "\n",
    "# shape for initial input tensor: CNN1D, RNN \n",
    "shape = (X_train.shape[1], X_train.shape[2])"
   ]
  },
  {
   "cell_type": "code",
   "execution_count": null,
   "metadata": {},
   "outputs": [],
   "source": [
    "X_train.shape, X_test.shape, shape"
   ]
  },
  {
   "cell_type": "code",
   "execution_count": null,
   "metadata": {},
   "outputs": [],
   "source": [
    "# Recurrent layers (RNN, LSTM) require \n",
    "#    return_sequences=True\n",
    "# to initialise another Recurrent layer\n",
    "# shape of this output is (batch_size, timesteps, units).\n",
    "# for a Dense layer, the default (False) is fine\n",
    "# shape of this output is (batch_size, units) \n",
    "#    where units corresponds to the argument passed to the constructor\n",
    "\n",
    "model_name = 'lstm'\n",
    "model = keras.Sequential()\n",
    "# use the proper shape!\n",
    "model.add(keras.layers.InputLayer(input_shape = shape))\n",
    "\n",
    "model.add(keras.layers.LSTM(128, return_sequences=True)) \n",
    "model.add(keras.layers.LSTM(64))\n",
    "\n",
    "# output layers\n",
    "model.add(keras.layers.Dense(CLASSES, name=\"OutputLayer\"))\n",
    "model.add(keras.layers.Softmax(name=\"ResultLayer\"))"
   ]
  },
  {
   "cell_type": "markdown",
   "metadata": {},
   "source": [
    "***\n",
    "**tensorflow.keras Conv1D**"
   ]
  },
  {
   "cell_type": "code",
   "execution_count": null,
   "metadata": {},
   "outputs": [],
   "source": [
    "# shape[0] = rows|observations ; shape[1] = cols|features\n",
    "# shape for initial input tensor depends on first layer:\n",
    "#     Dense (ANN|Fully Connected) uses 2D\n",
    "#     CNN1D, RNN both use 3D (with different semantics for the 3rd dim!)\n",
    "\n",
    "# reshape the datasets to 3D\n",
    "X_train = X_train.values.reshape(X_train.shape[0], X_train.shape[1], 1)\n",
    "X_test = X_test.values.reshape(X_test.shape[0], X_test.shape[1], 1)\n",
    "\n",
    "# shape for initial input tensor: CNN1D, RNN \n",
    "shape = (X_train.shape[1], X_train.shape[2])"
   ]
  },
  {
   "cell_type": "code",
   "execution_count": null,
   "metadata": {},
   "outputs": [],
   "source": [
    "X_train.shape, X_test.shape, shape"
   ]
  },
  {
   "cell_type": "code",
   "execution_count": null,
   "metadata": {},
   "outputs": [],
   "source": [
    "model_name = 'conv1D'\n",
    "model = keras.Sequential()\n",
    "# use the proper shape!\n",
    "model.add(keras.layers.InputLayer(input_shape = shape))\n",
    "\n",
    "model.add(keras.layers.Conv1D(filters = 64,\n",
    "                              kernel_size = 4, strides = 1,\n",
    "                              padding = 'valid'))\n",
    "model.add(tf.keras.layers.LSTM(64))  \n",
    "model.add(tf.keras.layers.Dense(32, activation='relu'))\n",
    "\n",
    "# output layers\n",
    "model.add(keras.layers.Dense(CLASSES, name=\"OutputLayer\"))\n",
    "model.add(keras.layers.Softmax(name=\"ResultLayer\"))"
   ]
  },
  {
   "cell_type": "markdown",
   "metadata": {
    "colab_type": "text",
    "id": "Cpzuyj7gxwCg",
    "tags": []
   },
   "source": [
    " ***"
   ]
  },
  {
   "cell_type": "markdown",
   "metadata": {
    "colab_type": "text",
    "id": "Cpzuyj7gxwCg",
    "tags": []
   },
   "source": [
    " ***"
   ]
  }
 ],
 "metadata": {
  "kernelspec": {
   "display_name": "Python 3 (ipykernel)",
   "language": "python",
   "name": "python3"
  },
  "language_info": {
   "codemirror_mode": {
    "name": "ipython",
    "version": 3
   },
   "file_extension": ".py",
   "mimetype": "text/x-python",
   "name": "python",
   "nbconvert_exporter": "python",
   "pygments_lexer": "ipython3",
   "version": "3.7.15"
  }
 },
 "nbformat": 4,
 "nbformat_minor": 4
}
