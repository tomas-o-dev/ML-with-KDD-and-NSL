{
 "cells": [
  {
   "cell_type": "markdown",
   "metadata": {},
   "source": [
    "> **Essential ML process for Intrusion Detection**\n",
    "<br>`NOTE: as of June 2022 {python3.8 numpy 1.19.5} are max versions for conda tensorflow builds 2.2-2.6 (at least) - seems like the pip build works with numpy >= 1.20 but pip install breaks the consistency of the conda environment`"
   ]
  },
  {
   "cell_type": "markdown",
   "metadata": {
    "colab_type": "text",
    "id": "_S34U5S-i69d"
   },
   "source": [
    "**Import the main libraries**"
   ]
  },
  {
   "cell_type": "code",
   "execution_count": 15,
   "metadata": {
    "jupyter": {
     "source_hidden": true
    },
    "tags": []
   },
   "outputs": [],
   "source": [
    "import numpy\n",
    "import pandas\n",
    "\n",
    "from time import time\n",
    "trs = time()\n",
    "\n",
    "import os\n",
    "data_path = '../datasets/NSL_KDD'"
   ]
  },
  {
   "cell_type": "markdown",
   "metadata": {
    "colab_type": "text",
    "id": "9IZetEZ8jQJm"
   },
   "source": [
    "**Import the Dataset**"
   ]
  },
  {
   "cell_type": "code",
   "execution_count": 16,
   "metadata": {
    "tags": []
   },
   "outputs": [
    {
     "name": "stdout",
     "output_type": "stream",
     "text": [
      "Train Dataset: 63280 rows, 43 columns\n",
      "Test Dataset: 22544 rows, 43 columns\n"
     ]
    }
   ],
   "source": [
    "# Using boosted Train and preprocessed Test\n",
    "\n",
    "data_file = os.path.join(data_path, 'NSL_boosted-1.csv') \n",
    "train_df = pandas.read_csv(data_file)\n",
    "print('Train Dataset: {} rows, {} columns'.format(train_df.shape[0], train_df.shape[1]))\n",
    "\n",
    "data_file = os.path.join(data_path, 'NSL_ppTest.csv') \n",
    "test_df = pandas.read_csv(data_file)\n",
    "print('Test Dataset: {} rows, {} columns'.format(test_df.shape[0], test_df.shape[1]))"
   ]
  },
  {
   "cell_type": "markdown",
   "metadata": {
    "colab_type": "text",
    "id": "Cpzuyj7gxwCg"
   },
   "source": [
    "***\n",
    "**Data Preparation and EDA** (unique to this dataset)"
   ]
  },
  {
   "cell_type": "markdown",
   "metadata": {},
   "source": [
    "* _let's skip the Checking (EDA)_"
   ]
  },
  {
   "cell_type": "markdown",
   "metadata": {},
   "source": [
    "* _Combine for processing classification target and text features_"
   ]
  },
  {
   "cell_type": "code",
   "execution_count": 17,
   "metadata": {
    "jupyter": {
     "source_hidden": true
    },
    "tags": []
   },
   "outputs": [
    {
     "name": "stdout",
     "output_type": "stream",
     "text": [
      "Combined Dataset: 85824 rows, 43 columns\n"
     ]
    }
   ],
   "source": [
    "combined_df = pandas.concat([train_df, test_df])\n",
    "print('Combined Dataset: {} rows, {} columns'.format(\n",
    "    combined_df.shape[0], combined_df.shape[1]))"
   ]
  },
  {
   "cell_type": "markdown",
   "metadata": {},
   "source": [
    "* _Classification Target feature:_\n",
    "two columns of labels are available \n",
    "    * Two-class: Reduce the detailed attack labels to 'normal' or 'attack'\n",
    "    * Multiclass: Use the category labels (atakcat)"
   ]
  },
  {
   "cell_type": "code",
   "execution_count": 18,
   "metadata": {},
   "outputs": [],
   "source": [
    "# Set the classification target\n",
    "twoclass = False     # True or False"
   ]
  },
  {
   "cell_type": "code",
   "execution_count": 19,
   "metadata": {
    "jupyter": {
     "source_hidden": true
    },
    "tags": []
   },
   "outputs": [],
   "source": [
    "if twoclass:\n",
    "# Two-class: Reduce the detailed attack labels to 'normal' or 'attack'\n",
    "# new single column data structure is a [series]\n",
    "    labels_df = combined_df['label'].copy()\n",
    "    labels_df[labels_df != 'normal'] = 'attack'\n",
    "else:\n",
    "# Multiclass: Use the category labels (atakcat)\n",
    "# new single column data structure is a [[dataframe]]\n",
    "# rename the column and convert to a series for later\n",
    "    labels_df = combined_df[['atakcat']].copy()\n",
    "    labels_df.rename(columns={'atakcat':'label'}, inplace=True)\n",
    "    labels_df = labels_df.squeeze('columns')\n",
    "\n",
    "# drop target features \n",
    "combined_df.drop(['label'], axis=1, inplace=True)\n",
    "combined_df.drop(['atakcat'], axis=1, inplace=True)"
   ]
  },
  {
   "cell_type": "code",
   "execution_count": 20,
   "metadata": {
    "collapsed": true,
    "jupyter": {
     "outputs_hidden": true,
     "source_hidden": true
    },
    "tags": []
   },
   "outputs": [
    {
     "name": "stdout",
     "output_type": "stream",
     "text": [
      "['duration', 'src_bytes', 'dst_bytes', 'land', 'wrong_fragment', 'urgent', 'hot', 'num_failed_logins', 'logged_in', 'num_compromised', 'root_shell', 'su_attempted', 'num_root', 'num_file_creations', 'num_shells', 'num_access_files', 'num_outbound_cmds', 'is_host_login', 'is_guest_login', 'count', 'srv_count', 'serror_rate', 'srv_serror_rate', 'rerror_rate', 'srv_rerror_rate', 'same_srv_rate', 'diff_srv_rate', 'srv_diff_host_rate', 'dst_host_count', 'dst_host_srv_count', 'dst_host_same_srv_rate', 'dst_host_diff_srv_rate', 'dst_host_same_src_port_rate', 'dst_host_srv_diff_host_rate', 'dst_host_serror_rate', 'dst_host_srv_serror_rate', 'dst_host_rerror_rate', 'dst_host_srv_rerror_rate']\n"
     ]
    }
   ],
   "source": [
    "# generate a list of numeric columns for scaling (later)\n",
    "numeri = combined_df.select_dtypes(include=['float64','int64']).columns\n",
    "print(numeri.to_list())"
   ]
  },
  {
   "cell_type": "markdown",
   "metadata": {
    "tags": []
   },
   "source": [
    "* _One-Hot Encoding the remaining categorical (text) features_"
   ]
  },
  {
   "cell_type": "code",
   "execution_count": 21,
   "metadata": {
    "tags": []
   },
   "outputs": [
    {
     "name": "stdout",
     "output_type": "stream",
     "text": [
      "['protocol_type', 'service', 'flag']\n"
     ]
    }
   ],
   "source": [
    "# put the names into a python list - for pandas.get_dummies()\n",
    "categori = combined_df.select_dtypes(include=['object']).columns\n",
    "category_cols = categori.tolist()\n",
    "print(category_cols)"
   ]
  },
  {
   "cell_type": "raw",
   "metadata": {
    "jupyter": {
     "source_hidden": true
    },
    "tags": []
   },
   "source": [
    "# generate a sorted list of unique values of categorical features\n",
    "# we will get a new column for each one with get_dummies()\n",
    "from sklearn.utils.multiclass import unique_labels\n",
    "for col in categori:\n",
    "    print(col, ' ::> ', unique_labels(combined_df[col]))\n",
    "    print()"
   ]
  },
  {
   "cell_type": "code",
   "execution_count": 22,
   "metadata": {
    "jupyter": {
     "source_hidden": true
    },
    "tags": []
   },
   "outputs": [
    {
     "name": "stdout",
     "output_type": "stream",
     "text": [
      "<class 'pandas.core.frame.DataFrame'>\n",
      "Int64Index: 85824 entries, 0 to 22543\n",
      "Columns: 120 entries, duration to flag_SH\n",
      "dtypes: float64(15), int64(23), uint8(82)\n",
      "memory usage: 32.2 MB\n"
     ]
    }
   ],
   "source": [
    "# Apply to the list of Categorical columns (text fields)\n",
    "features_df = pandas.get_dummies(combined_df, columns=category_cols)\n",
    "features_df.info()"
   ]
  },
  {
   "cell_type": "markdown",
   "metadata": {
    "colab_type": "text",
    "id": "Cpzuyj7gxwCg",
    "tags": []
   },
   "source": [
    "***\n",
    "**<br>Create Test // Train Datasets**\n",
    "> Normally we split the dataset into train 70 % // test 30 % like this\n",
    "<br>`from sklearn.model_selection import train_test_split`\n",
    "<br>`X_train, X_test, y_train, y_test = `\n",
    "<br>`    train_test_split(features_df, labels_df, `\n",
    "<br>`        test_size=0.3, stratify=labels_df, random_state=42)`"
   ]
  },
  {
   "cell_type": "code",
   "execution_count": 23,
   "metadata": {
    "jupyter": {
     "source_hidden": true
    },
    "tags": []
   },
   "outputs": [],
   "source": [
    "# Restore the train // test split: slice 1 Dataframe into 2 \n",
    "# pandas has a lot of rules about returning a 'view' vs. a copy from slice\n",
    "# so we force it to create a new dataframe [avoiding SettingWithCopy Warning]\n",
    "features_train = features_df.iloc[:len(train_df),:].copy()    # X_train\n",
    "features_test = features_df.iloc[len(train_df):,:].copy()     # X_test\n",
    "\n",
    "# Restore the train // test split: slice 1 Series into 2 \n",
    "labels_train = labels_df[:len(train_df)]               # y_train\n",
    "labels_test = labels_df[len(train_df):]                # y_test"
   ]
  },
  {
   "cell_type": "markdown",
   "metadata": {
    "tags": []
   },
   "source": [
    "***\n",
    "Next are standard steps for all datasets: _scaling, classifiers, results_"
   ]
  },
  {
   "cell_type": "markdown",
   "metadata": {
    "colab_type": "text",
    "id": "Cpzuyj7gxwCg",
    "tags": []
   },
   "source": [
    "**Scaling** comes _after_ test // train split"
   ]
  },
  {
   "cell_type": "code",
   "execution_count": 24,
   "metadata": {
    "jupyter": {
     "source_hidden": true
    },
    "tags": []
   },
   "outputs": [],
   "source": [
    "# scaling the Numeric columns \n",
    "# from sklearn.preprocessing import StandardScaler\n",
    "from sklearn.preprocessing import MinMaxScaler\n",
    "\n",
    "# StandardScaler range: -1 to 1, MinMaxScaler range: zero to 1\n",
    "# ColumnTransformer returns a numpy.ndarray so we lose the feature names;\n",
    "# we process one column at a time to preserve the dataframe\n",
    "\n",
    "# sklearn docs say \n",
    "#   \"Don't cheat - fit only on training data, then transform both\"\n",
    "#   fit() expects 2D array: reshape(-1, 1) for single col or (1, -1) single row\n",
    "\n",
    "for i in numeri:\n",
    "    arr = numpy.array(features_train[i])\n",
    "    scale = MinMaxScaler().fit(arr.reshape(-1, 1))\n",
    "    features_train[i] = scale.transform(arr.reshape(len(arr),1))\n",
    "\n",
    "    arr = numpy.array(features_test[i])\n",
    "    features_test[i] = scale.transform(arr.reshape(len(arr),1))"
   ]
  },
  {
   "cell_type": "markdown",
   "metadata": {
    "colab_type": "text",
    "id": "Cpzuyj7gxwCg",
    "tags": []
   },
   "source": [
    "**<br>Function** to calculate perfomance metrics"
   ]
  },
  {
   "cell_type": "code",
   "execution_count": 25,
   "metadata": {
    "jupyter": {
     "source_hidden": true
    },
    "tags": []
   },
   "outputs": [],
   "source": [
    "from sklearn.metrics import confusion_matrix\n",
    "from sklearn.metrics import classification_report\n",
    "from sklearn.metrics import matthews_corrcoef"
   ]
  },
  {
   "cell_type": "code",
   "execution_count": 26,
   "metadata": {
    "jupyter": {
     "source_hidden": true
    },
    "tags": []
   },
   "outputs": [],
   "source": [
    "def show_metrics(y_test,ygx,lbls):\n",
    "    tptn_df = pandas.DataFrame(confusion_matrix(y_test, ygx, labels=lbls), \n",
    "                           index=['train:{:}'.format(x) for x in lbls], \n",
    "                           columns=['pred:{:}'.format(x) for x in lbls])\n",
    "    print(tptn_df)    \n",
    "    print(\"\\n~~~~\")\n",
    "    \n",
    "    TP = numpy.diag(tptn_df.values)\n",
    "    FP = tptn_df.values.sum(axis=0) - TP\n",
    "    FN = tptn_df.values.sum(axis=1) - TP\n",
    "    TN = numpy.sum(tptn_df.values) - (FP + FN + TP)\n",
    "# false positive rates\n",
    "    FPR = FP/(FP+TN)\n",
    "# false negative rates\n",
    "    FNR = FN/(TP+FN)\n",
    "# overall \n",
    "    sfpr=FP.sum()/(FP.sum()+TN.sum())\n",
    "    sfnr=FN.sum()/(TP.sum()+FN.sum())\n",
    "    \n",
    "    if len(lbls) >2:\n",
    "        for x in range(len(lbls)):\n",
    "            print('{:>12} : '.format(lbls[x]),\n",
    "                  'FPR = %.3f   FNR = %.3f' % (FPR[x], FNR[x]))\n",
    "        print()\n",
    "\n",
    "    print('{:>12} : '.format('macro avg'),\n",
    "          'FPR = %.3f   FNR = %.3f'  % (FPR.mean(), FNR.mean()))\n",
    "    print('weighted avg :  FPR = %.3f   FNR = %.3f' % (sfpr, sfnr))\n",
    " \n",
    "    print(\"\\n~~~~\")\n",
    "    \n",
    "#    macro average: unweighted mean per label \n",
    "# weighted average: support-weighted mean per label  \n",
    "    print(classification_report(y_test, ygx, digits=3, target_names=lbls))\n",
    "\n",
    "    print(\"~~~~\")\n",
    "# Matthews correlation coefficient: \n",
    "#   correlation between prediction and ground truth\n",
    "#   (+1 perfect, 0 random prediction, -1 inverse)\n",
    "\n",
    "    mcc = matthews_corrcoef(y_test, ygx)\n",
    "    print('MCC: Overall :  %.3f' % mcc)\n",
    "    if len(lbls) >2:\n",
    "        for tc in lbls:\n",
    "            bin_mcc = matthews_corrcoef(y_test == tc, ygx == tc)\n",
    "            print('{:>12} :'.format(tc),' %.3f' % bin_mcc)  \n",
    "\n",
    "    return '~~~~'"
   ]
  },
  {
   "cell_type": "markdown",
   "metadata": {
    "tags": []
   },
   "source": [
    "**<br>Target Label Distributions**"
   ]
  },
  {
   "cell_type": "code",
   "execution_count": 27,
   "metadata": {
    "jupyter": {
     "source_hidden": true
    },
    "tags": []
   },
   "outputs": [
    {
     "name": "stdout",
     "output_type": "stream",
     "text": [
      "features_train: 63280 rows, 120 columns\n",
      "features_test:  22544 rows, 120 columns\n",
      "\n",
      "labels_train: 63280 rows, 1 column\n",
      "labels_test:  22544 rows, 1 column\n",
      "\n",
      "Frequency and Distribution of labels\n",
      "        label  pct_train  label  pct_test\n",
      "benign  33671      53.21   9711     43.08\n",
      "dos     23066      36.45   7458     33.08\n",
      "probe    5907       9.33   2421     10.74\n",
      "r2l       578       0.91   2754     12.22\n",
      "u2r        58       0.09    200      0.89\n"
     ]
    }
   ],
   "source": [
    "# shape method gives the dimensions of the dataset\n",
    "print('features_train: {} rows, {} columns'.format(features_train.shape[0], features_train.shape[1]))\n",
    "print('features_test:  {} rows, {} columns'.format(features_test.shape[0], features_test.shape[1]))\n",
    "print()\n",
    "print('labels_train: {} rows, 1 column'.format(labels_train.shape[0]))\n",
    "print('labels_test:  {} rows, 1 column'.format(labels_test.shape[0]))\n",
    "print()\n",
    "\n",
    "## Here's a nice report:  \n",
    "# 1. series to dataframe conversion\n",
    "my_train = pandas.DataFrame(labels_train)\n",
    "my_test = pandas.DataFrame(labels_test)\n",
    "# 2. dataframe copy with [[ -- ]]\n",
    "av_train = my_train[['label']].apply(lambda x: x.value_counts())\n",
    "av_test = my_test[['label']].apply(lambda x: x.value_counts())\n",
    "# 3. add a new column\n",
    "av_train['pct_train'] = round((100 * av_train / av_train.sum()),2)\n",
    "av_test['pct_test'] = round((100 * av_test / av_test.sum()),2)\n",
    "# 4. combine the dataframes\n",
    "av_tt = pandas.concat([av_train,av_test], axis=1) \n",
    "# 5. print the report\n",
    "print('Frequency and Distribution of labels')\n",
    "print(av_tt)"
   ]
  },
  {
   "cell_type": "code",
   "execution_count": 28,
   "metadata": {
    "jupyter": {
     "source_hidden": true
    },
    "tags": []
   },
   "outputs": [
    {
     "data": {
      "image/png": "[encoded data removed]",
      "text/plain": [
       "<Figure size 432x288 with 1 Axes>"
      ]
     },
     "metadata": {
      "needs_background": "light"
     },
     "output_type": "display_data"
    }
   ],
   "source": [
    "from yellowbrick.target import ClassBalance\n",
    "# The ClassBalance visualizer has a “compare” mode, \n",
    "#   to create a side-by-side bar chart instead of a single bar chart \n",
    "\n",
    "# Instantiate the visualizer\n",
    "visualizer = ClassBalance()\n",
    "visualizer.fit(labels_train,labels_test)        # Fit the data to the visualizer\n",
    "_ = visualizer.show()                  # Finalize and render the figure\n",
    "# assign visualizer.show() to a null variable to avoid printing some trash"
   ]
  },
  {
   "cell_type": "markdown",
   "metadata": {
    "colab_type": "text",
    "id": "Cpzuyj7gxwCg"
   },
   "source": [
    "**<br>Classifier Selection<br>Fit and Predict**"
   ]
  },
  {
   "cell_type": "markdown",
   "metadata": {
    "colab_type": "text",
    "id": "Cpzuyj7gxwCg"
   },
   "source": [
    "**<br>Tensorflow.Keras Model**"
   ]
  },
  {
   "cell_type": "code",
   "execution_count": 29,
   "metadata": {
    "tags": []
   },
   "outputs": [],
   "source": [
    "import tensorflow as tf"
   ]
  },
  {
   "cell_type": "code",
   "execution_count": 30,
   "metadata": {},
   "outputs": [],
   "source": [
    "# requires numeric labels\n",
    "from sklearn.preprocessing import LabelEncoder\n",
    "\n",
    "## Feature being predicted (\"the Right Answer\")\n",
    "ytrain = LabelEncoder().fit_transform(labels_train)\n",
    "ytest = LabelEncoder().fit_transform(labels_test)"
   ]
  },
  {
   "cell_type": "code",
   "execution_count": 31,
   "metadata": {},
   "outputs": [
    {
     "data": {
      "text/plain": [
       "((63280, 120), (22544, 120), (63280,), (22544,))"
      ]
     },
     "execution_count": 31,
     "metadata": {},
     "output_type": "execute_result"
    }
   ],
   "source": [
    "X_train = features_train\n",
    "X_test = features_test\n",
    "y_train = ytrain\n",
    "y_test = ytest\n",
    "\n",
    "X_train.shape, X_test.shape, y_train.shape, y_test.shape"
   ]
  },
  {
   "cell_type": "code",
   "execution_count": 32,
   "metadata": {
    "tags": []
   },
   "outputs": [],
   "source": [
    "# Essential Hyperparameters\n",
    "CLASSES = 5          # output layer size\n",
    "EPOCHS = 10          # max runs through the network\n",
    "BATCH_SIZE = 256     # training data subset size"
   ]
  },
  {
   "cell_type": "markdown",
   "metadata": {},
   "source": [
    "***\n",
    "**Define the model**"
   ]
  },
  {
   "cell_type": "code",
   "execution_count": 33,
   "metadata": {},
   "outputs": [],
   "source": [
    "# shape for initial input tensor depends on first layer\n",
    "# feed_forward shape ... SKIP THE RESHAPE!\n",
    "shape = (X_train.shape[1])"
   ]
  },
  {
   "cell_type": "code",
   "execution_count": 34,
   "metadata": {},
   "outputs": [
    {
     "data": {
      "text/plain": [
       "((63280, 120), (22544, 120), 120)"
      ]
     },
     "execution_count": 34,
     "metadata": {},
     "output_type": "execute_result"
    }
   ],
   "source": [
    "X_train.shape, X_test.shape, shape"
   ]
  },
  {
   "cell_type": "code",
   "execution_count": 35,
   "metadata": {
    "tags": []
   },
   "outputs": [],
   "source": [
    "# NO Spaces in names\n",
    "model_name = 'feed_forward'\n",
    "\n",
    "model = tf.keras.Sequential()\n",
    "# feed_forward shape ...\n",
    "model.add(tf.keras.layers.InputLayer(input_shape=shape, name='optionalLayer'))\n",
    "\n",
    "model.add(tf.keras.layers.Dense(100, activation='relu', name='InitialLayer'))\n",
    "model.add(tf.keras.layers.Dense(50, activation='relu', name='mid_Layer'))\n",
    "model.add(tf.keras.layers.Dense(25, activation='relu', name=\"mid-Layer\"))\n",
    "model.add(tf.keras.layers.Dense(CLASSES, name=\"OutputLayer\"))\n",
    "model.add(tf.keras.layers.Softmax(name=\"ResultLayer\"))"
   ]
  },
  {
   "cell_type": "markdown",
   "metadata": {
    "colab_type": "text",
    "id": "Cpzuyj7gxwCg",
    "tags": []
   },
   "source": [
    " ***"
   ]
  },
  {
   "cell_type": "markdown",
   "metadata": {},
   "source": [
    "**<br>Below works for any model**"
   ]
  },
  {
   "cell_type": "code",
   "execution_count": 36,
   "metadata": {},
   "outputs": [
    {
     "name": "stdout",
     "output_type": "stream",
     "text": [
      "Model: \"sequential\"\n",
      "_________________________________________________________________\n",
      "Layer (type)                 Output Shape              Param #   \n",
      "=================================================================\n",
      "InitialLayer (Dense)         (None, 100)               12100     \n",
      "_________________________________________________________________\n",
      "mid_Layer (Dense)            (None, 50)                5050      \n",
      "_________________________________________________________________\n",
      "mid-Layer (Dense)            (None, 25)                1275      \n",
      "_________________________________________________________________\n",
      "OutputLayer (Dense)          (None, 5)                 130       \n",
      "_________________________________________________________________\n",
      "ResultLayer (Softmax)        (None, 5)                 0         \n",
      "=================================================================\n",
      "Total params: 18,555\n",
      "Trainable params: 18,555\n",
      "Non-trainable params: 0\n",
      "_________________________________________________________________\n"
     ]
    }
   ],
   "source": [
    "model.summary()"
   ]
  },
  {
   "cell_type": "code",
   "execution_count": 37,
   "metadata": {
    "tags": []
   },
   "outputs": [
    {
     "data": {
      "image/png": "[encoded data removed]",
      "text/plain": [
       "<IPython.core.display.Image object>"
      ]
     },
     "execution_count": 37,
     "metadata": {},
     "output_type": "execute_result"
    }
   ],
   "source": [
    "# saves a picture of the model to results\n",
    "# rankdir 'TB' creates a vertical plot; 'LR' creates a horizontal plot.\n",
    "tf.keras.utils.plot_model(model, \n",
    "                          f'{model_name}_graph.png', \n",
    "                          show_shapes=True,\n",
    "                          show_layer_names=True,\n",
    "                          rankdir='TB')"
   ]
  },
  {
   "cell_type": "code",
   "execution_count": 38,
   "metadata": {
    "tags": []
   },
   "outputs": [],
   "source": [
    "model.compile(loss = 'sparse_categorical_crossentropy', \n",
    "              optimizer = \"adam\",\n",
    "              metrics = ['acc','mse']\n",
    "             )"
   ]
  },
  {
   "cell_type": "code",
   "execution_count": null,
   "metadata": {},
   "outputs": [],
   "source": [
    "# stop the training when there is no improvement \n",
    "# in the loss for five consecutive epochs\n",
    "\n",
    "#from tensorflow.keras.callbacks import EarlyStopping\n",
    "#monitor = EarlyStopping(monitor='val_loss', min_delta=1e-3, \n",
    "#                        patience=5, verbose=1, mode='auto', \n",
    "#                        restore_best_weights=True)"
   ]
  },
  {
   "cell_type": "code",
   "execution_count": 39,
   "metadata": {
    "tags": []
   },
   "outputs": [
    {
     "name": "stdout",
     "output_type": "stream",
     "text": [
      "Epoch 1/10\n",
      "211/211 [==============================] - 3s 12ms/step - loss: 0.2534 - acc: 0.9434 - mse: 0.7537 - val_loss: 0.1766 - val_acc: 0.9568 - val_mse: 0.8724\n",
      "Epoch 2/10\n",
      "211/211 [==============================] - 2s 10ms/step - loss: 0.0573 - acc: 0.9800 - mse: 0.7803 - val_loss: 0.1893 - val_acc: 0.9618 - val_mse: 0.8756\n",
      "Epoch 3/10\n",
      "211/211 [==============================] - 2s 11ms/step - loss: 0.0426 - acc: 0.9860 - mse: 0.7823 - val_loss: 0.1987 - val_acc: 0.9638 - val_mse: 0.8738\n",
      "Epoch 4/10\n",
      "211/211 [==============================] - 2s 10ms/step - loss: 0.0355 - acc: 0.9880 - mse: 0.7832 - val_loss: 0.2256 - val_acc: 0.9647 - val_mse: 0.8782\n",
      "Epoch 5/10\n",
      "211/211 [==============================] - 2s 10ms/step - loss: 0.0302 - acc: 0.9904 - mse: 0.7839 - val_loss: 0.2174 - val_acc: 0.9676 - val_mse: 0.8783\n",
      "Epoch 6/10\n",
      "211/211 [==============================] - 2s 11ms/step - loss: 0.0264 - acc: 0.9910 - mse: 0.7844 - val_loss: 0.2103 - val_acc: 0.9694 - val_mse: 0.8784\n",
      "Epoch 7/10\n",
      "211/211 [==============================] - 2s 10ms/step - loss: 0.0230 - acc: 0.9927 - mse: 0.7847 - val_loss: 0.2287 - val_acc: 0.9701 - val_mse: 0.8788\n",
      "Epoch 8/10\n",
      "211/211 [==============================] - 2s 11ms/step - loss: 0.0213 - acc: 0.9930 - mse: 0.7850 - val_loss: 0.2237 - val_acc: 0.9707 - val_mse: 0.8790\n",
      "Epoch 9/10\n",
      "211/211 [==============================] - 2s 10ms/step - loss: 0.0202 - acc: 0.9934 - mse: 0.7852 - val_loss: 0.2448 - val_acc: 0.9702 - val_mse: 0.8793\n",
      "Epoch 10/10\n",
      "211/211 [==============================] - 2s 11ms/step - loss: 0.0198 - acc: 0.9931 - mse: 0.7853 - val_loss: 0.2284 - val_acc: 0.9711 - val_mse: 0.8795\n"
     ]
    }
   ],
   "source": [
    "hist = model.fit(X_train, y_train, \n",
    "                 epochs=EPOCHS, \n",
    "                 batch_size = BATCH_SIZE,\n",
    "                 # validation_data=(X_test,y_test),\n",
    "                 validation_split = .15,\n",
    "                 # callbacks=[monitor],\n",
    "                 shuffle = True\n",
    "                )"
   ]
  },
  {
   "cell_type": "raw",
   "metadata": {
    "tags": []
   },
   "source": [
    "# model.save(f'{model_name}.h5')"
   ]
  },
  {
   "cell_type": "markdown",
   "metadata": {},
   "source": [
    "**<br>Standard Tensorrflow Metrics**"
   ]
  },
  {
   "cell_type": "code",
   "execution_count": 40,
   "metadata": {
    "tags": []
   },
   "outputs": [
    {
     "name": "stdout",
     "output_type": "stream",
     "text": [
      "1978/1978 [==============================] - 7s 4ms/step - loss: 0.0496 - acc: 0.9908 - mse: 0.7997\n",
      "705/705 [==============================] - 3s 4ms/step - loss: 1.9168 - acc: 0.7754 - mse: 1.8152\n",
      "****** TRAIN ******\n",
      "Loss : 0.0496   Accuracy : 0.9908\n",
      "****** TEST ******\n",
      "Loss : 1.9168   Accuracy : 0.7754\n"
     ]
    }
   ],
   "source": [
    "# Verbosity mode. 0 = silent, 1 = progress bar, 2 = single line\n",
    "train_loss, train_accuracy, train_mse = model.evaluate(X_train,  y_train, verbose=1)\n",
    "test_loss, test_accuracy, test_mse = model.evaluate(X_test,  y_test, verbose=1)\n",
    "\n",
    "#print('Elapsed %.3f seconds.' % elapsed)\n",
    "print('****** TRAIN ******')\n",
    "print('Loss : %.4f   Accuracy : %.4f' % (train_loss, train_accuracy))\n",
    "#print(f\"Loss: {train_loss}\\nAccuracy: {train_accuracy}\")\n",
    "print('****** TEST ******')\n",
    "print('Loss : %.4f   Accuracy : %.4f' % (test_loss, test_accuracy))\n",
    "#print('Loss :  %.3f' % test_loss)\n",
    "#print(f\"Loss: {test_loss}\\nAccuracy: {test_accuracy}\")"
   ]
  },
  {
   "cell_type": "code",
   "execution_count": 41,
   "metadata": {
    "tags": []
   },
   "outputs": [],
   "source": [
    "import matplotlib.pyplot as plt\n",
    "#import seaborn as sns"
   ]
  },
  {
   "cell_type": "code",
   "execution_count": 42,
   "metadata": {
    "tags": []
   },
   "outputs": [
    {
     "data": {
      "image/png": "[encoded data removed]",
      "text/plain": [
       "<Figure size 432x288 with 1 Axes>"
      ]
     },
     "metadata": {
      "needs_background": "light"
     },
     "output_type": "display_data"
    }
   ],
   "source": [
    "#plt.figure(figsize = (20,10))\n",
    "plt.plot(hist.history['acc'], label = 'Train')\n",
    "plt.plot(hist.history['val_acc'], label='Validation')\n",
    "plt.title(\"Train Accuracy vs Validation Accuracy\")\n",
    "plt.xlabel(\"Epochs\")\n",
    "plt.xticks([i for i in range(EPOCHS)])\n",
    "plt.ylabel(\"Accuracy\")\n",
    "plt.legend()\n",
    "plt.title(f'{model_name} - accuracy')\n",
    "#plt.savefig(f'{model_name}_accuracy.png')\n",
    "plt.show()"
   ]
  },
  {
   "cell_type": "code",
   "execution_count": 43,
   "metadata": {
    "tags": []
   },
   "outputs": [
    {
     "data": {
      "image/png": "[encoded data removed]",
      "text/plain": [
       "<Figure size 432x288 with 1 Axes>"
      ]
     },
     "metadata": {
      "needs_background": "light"
     },
     "output_type": "display_data"
    }
   ],
   "source": [
    "#plt.figure(figsize = (20,10))\n",
    "plt.plot(hist.history['loss'], label = 'Train')\n",
    "plt.plot(hist.history['val_loss'], label='Validation')\n",
    "plt.title(\"Train Loss vs Validation Loss\")\n",
    "plt.xlabel(\"Epochs\")\n",
    "plt.xticks([i for i in range(EPOCHS)])\n",
    "plt.ylabel(\"Loss\")\n",
    "plt.legend()\n",
    "plt.title(f'{model_name} - loss')\n",
    "#plt.savefig(f'{model_name}_loss.png')\n",
    "plt.show()"
   ]
  },
  {
   "cell_type": "markdown",
   "metadata": {},
   "source": [
    "**<br>Convert everything back to text labels for our metrics function**"
   ]
  },
  {
   "cell_type": "code",
   "execution_count": 44,
   "metadata": {
    "tags": []
   },
   "outputs": [],
   "source": [
    "y_pred = model.predict([X_test])\n",
    "predictions = y_pred.argmax(axis=-1)"
   ]
  },
  {
   "cell_type": "code",
   "execution_count": 45,
   "metadata": {},
   "outputs": [
    {
     "name": "stdout",
     "output_type": "stream",
     "text": [
      "\n",
      "~~~~\n",
      "Confusion Matrix: feed_forward\n",
      "              pred:benign  pred:dos  pred:probe  pred:r2l  pred:u2r\n",
      "train:benign         9258        71         378         3         1\n",
      "train:dos            1240      6172          36        10         0\n",
      "train:probe           404       233        1734        50         0\n",
      "train:r2l            2448         1           7       298         0\n",
      "train:u2r             157         1          17         6        19\n",
      "\n",
      "~~~~\n",
      "      benign :  FPR = 0.331   FNR = 0.047\n",
      "         dos :  FPR = 0.020   FNR = 0.172\n",
      "       probe :  FPR = 0.022   FNR = 0.284\n",
      "         r2l :  FPR = 0.003   FNR = 0.892\n",
      "         u2r :  FPR = 0.000   FNR = 0.905\n",
      "\n",
      "   macro avg :  FPR = 0.075   FNR = 0.460\n",
      "weighted avg :  FPR = 0.056   FNR = 0.225\n",
      "\n",
      "~~~~\n",
      "              precision    recall  f1-score   support\n",
      "\n",
      "      benign      0.685     0.953     0.797      9711\n",
      "         dos      0.953     0.828     0.886      7458\n",
      "       probe      0.798     0.716     0.755      2421\n",
      "         r2l      0.812     0.108     0.191      2754\n",
      "         u2r      0.950     0.095     0.173       200\n",
      "\n",
      "    accuracy                          0.775     22544\n",
      "   macro avg      0.840     0.540     0.560     22544\n",
      "weighted avg      0.804     0.775     0.742     22544\n",
      "\n",
      "~~~~\n",
      "MCC: Overall :  0.672\n",
      "      benign :  0.629\n",
      "         dos :  0.839\n",
      "       probe :  0.729\n",
      "         r2l :  0.271\n",
      "         u2r :  0.299\n"
     ]
    },
    {
     "data": {
      "text/plain": [
       "'~~~~'"
      ]
     },
     "execution_count": 45,
     "metadata": {},
     "output_type": "execute_result"
    }
   ],
   "source": [
    "## Generate a sorted list of unique labels\n",
    "from sklearn.utils.multiclass import unique_labels\n",
    "ll_test = pandas.DataFrame(labels_test)\n",
    "clss = unique_labels(ll_test['label'])\n",
    "\n",
    "## convert predictions and 'ground truth'\n",
    "ll_pred = pandas.DataFrame(predictions)\n",
    "ll_pred[0] = ll_pred[0].apply(lambda x: clss[x])\n",
    "\n",
    "ll_ytst = pandas.DataFrame(y_test)\n",
    "ll_ytst[0] = ll_ytst[0].apply(lambda x: clss[x])\n",
    "\n",
    "print(\"\\n~~~~\")\n",
    "print('Confusion Matrix:', model_name)\n",
    "show_metrics(ll_ytst,ll_pred,clss)"
   ]
  },
  {
   "cell_type": "code",
   "execution_count": null,
   "metadata": {},
   "outputs": [],
   "source": []
  },
  {
   "cell_type": "code",
   "execution_count": null,
   "metadata": {},
   "outputs": [],
   "source": []
  }
 ],
 "metadata": {
  "kernelspec": {
   "display_name": "Python 3 (ipykernel)",
   "language": "python",
   "name": "python3"
  },
  "language_info": {
   "codemirror_mode": {
    "name": "ipython",
    "version": 3
   },
   "file_extension": ".py",
   "mimetype": "text/x-python",
   "name": "python",
   "nbconvert_exporter": "python",
   "pygments_lexer": "ipython3",
   "version": "3.7.13"
  }
 },
 "nbformat": 4,
 "nbformat_minor": 4
}
